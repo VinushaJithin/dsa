{
 "cells": [
  {
   "cell_type": "markdown",
   "metadata": {},
   "source": [
    "## 1. Complete the following code to find the area of an equilateral triangle. Output should be as displayed"
   ]
  },
  {
   "cell_type": "code",
   "execution_count": 15,
   "metadata": {},
   "outputs": [
    {
     "name": "stdin",
     "output_type": "stream",
     "text": [
      "Enter the side of the equilateral triangle 5\n"
     ]
    },
    {
     "name": "stdout",
     "output_type": "stream",
     "text": [
      "Area =  10.825\n"
     ]
    }
   ],
   "source": [
    "import math\n",
    "side = float(input(\"Enter the side of the equilateral triangle: \"))\n",
    "area = ((math.sqrt(3))/4)*pow(side,2)\n",
    "print('Area =  ', round(area, 3))"
   ]
  },
  {
   "cell_type": "markdown",
   "metadata": {},
   "source": [
    "## 2. Write a program to count the number of each characters in a string"
   ]
  },
  {
   "cell_type": "code",
   "execution_count": null,
   "metadata": {},
   "outputs": [],
   "source": [
    "string = str(input('Enter the string : '))\n",
    "for i in set(string):\n",
    "    x = {i : string.count(i) }\n",
    "    print (\"The number of each character is : \"+  str(x))"
   ]
  },
  {
   "cell_type": "markdown",
   "metadata": {},
   "source": [
    "## 3. Write a program to find the area and perimeter of a rectangle using functions"
   ]
  },
  {
   "cell_type": "code",
   "execution_count": null,
   "metadata": {},
   "outputs": [],
   "source": [
    "def area(length,breadth):\n",
    "    area1 = length*breadth\n",
    "    return area1\n",
    "def perimeter(length,breadth):\n",
    "    perimeter1 = 2*length + 2*breadth\n",
    "    return perimeter1\n",
    "length = int(input('Enter the length of the rectangle : '))\n",
    "breadth = int(input('Enter the breadth of the rectangle : '))\n",
    "print('Area is : ', area(length,breadth), ' Perimeter is : ', perimeter(length,breadth))"
   ]
  },
  {
   "cell_type": "markdown",
   "metadata": {},
   "source": [
    "## 4. Write a program to print the fibonacci series till a specified number"
   ]
  },
  {
   "cell_type": "code",
   "execution_count": null,
   "metadata": {},
   "outputs": [],
   "source": [
    "limit = int(input('Enter the limit to generate the fibinocci : '))\n",
    "\n",
    "current = 1\n",
    "previous = 0\n",
    "fib = 0\n",
    "\n",
    "\n",
    "while fib <= limit:\n",
    "    print(fib)\n",
    "    previous = current\n",
    "    current = fib\n",
    "    fib = current + previous"
   ]
  },
  {
   "cell_type": "markdown",
   "metadata": {},
   "source": [
    "## 5. Complete the following code to find the minimum of 3 number using conditional statements. Output should be as displayed"
   ]
  },
  {
   "cell_type": "code",
   "execution_count": 3,
   "metadata": {},
   "outputs": [
    {
     "name": "stdout",
     "output_type": "stream",
     "text": [
      "Enter three numbers followed by  : -19 -100 -9\n",
      "First number : -19\n",
      "Second number : -100\n",
      "Third number : -9\n",
      "-100  is smallest\n"
     ]
    }
   ],
   "source": [
    "a,b,c = input(\"Enter three numbers followed by  : \").split()\n",
    "\n",
    "print(\"First number :\",a)\n",
    "print(\"Second number :\",b)\n",
    "print(\"Third number :\",c)\n",
    "\n",
    "if a==b and a==c : \n",
    "    print(\"Entered numbers are equal!!!\")\n",
    "elif a<b and a<c : \n",
    "    print(a,\" is smallest\")\n",
    "elif b<c and b<a :\n",
    "    print(b,\" is smallest\")\n",
    "else : \n",
    "    print(c,\" is smallest\")"
   ]
  },
  {
   "cell_type": "markdown",
   "metadata": {},
   "source": [
    "## 6. Write a program to print star pyramind. The number of rows should be taken as input from the user"
   ]
  },
  {
   "cell_type": "code",
   "execution_count": null,
   "metadata": {},
   "outputs": [],
   "source": [
    "rows = int(input(\"Enter number of rows : \"))\n",
    "\n",
    "k = 0\n",
    "\n",
    "for i in range(1, rows+1):\n",
    "    for space in range(1, (rows-i)+1):\n",
    "        print(end=\"  \")\n",
    "   \n",
    "    while k!=(2*i-1):\n",
    "        print(\"* \", end=\"\")\n",
    "        k += 1\n",
    "   \n",
    "    k = 0\n",
    "    print()"
   ]
  },
  {
   "cell_type": "markdown",
   "metadata": {},
   "source": [
    "## 7. Complete the following code to convert hour into seconds. Output should be as displayed"
   ]
  },
  {
   "cell_type": "code",
   "execution_count": 45,
   "metadata": {},
   "outputs": [
    {
     "name": "stdin",
     "output_type": "stream",
     "text": [
      "Enter time in Hours : 24\n"
     ]
    },
    {
     "name": "stdout",
     "output_type": "stream",
     "text": [
      "24  Hour is equal to 86400  Seconds\n"
     ]
    }
   ],
   "source": [
    "def to_seconds(t):\n",
    "    t = t*60\n",
    "    return \n",
    "time_in_hours = int(input('Enter time in Hours : '))\n",
    "print(time_in_hours ,\" Hour is equal to\" ,to_seconds(time_in_hours) ,\" Seconds\")"
   ]
  },
  {
   "cell_type": "markdown",
   "metadata": {},
   "source": [
    "## 8. Write a program to print multiplication table as below"
   ]
  },
  {
   "cell_type": "code",
   "execution_count": 4,
   "metadata": {},
   "outputs": [
    {
     "name": "stdout",
     "output_type": "stream",
     "text": [
      "Enter a number to find the multiplication table: 67\n",
      "1 x 67 = 67\n",
      "2 x 67 = 134\n",
      "3 x 67 = 201\n",
      "4 x 67 = 268\n",
      "5 x 67 = 335\n",
      "6 x 67 = 402\n",
      "7 x 67 = 469\n",
      "8 x 67 = 536\n",
      "9 x 67 = 603\n",
      "10 x 67 = 670\n"
     ]
    }
   ],
   "source": [
    "multiplynumber = int(input('Enter a number to find the multiplication table : '))\n",
    "\n",
    "i=1\n",
    "while i <= 10:\n",
    "    print(i, ' x ', multiplynumber ,' = ', multiplynumber*i)\n",
    "    i=i+1"
   ]
  },
  {
   "cell_type": "markdown",
   "metadata": {},
   "source": [
    "## 9. Write a program to take your 5 favorite food as list and print each as 'I like Biriyani'"
   ]
  },
  {
   "cell_type": "code",
   "execution_count": null,
   "metadata": {},
   "outputs": [],
   "source": [
    "food = ['chicken curry', 'mutton curry', 'fish curry', 'prawns curry', 'crab curry']\n",
    "for my in food:\n",
    "    print('i like ', my)"
   ]
  }
 ],
 "metadata": {
  "kernelspec": {
   "display_name": "Python 3 (ipykernel)",
   "language": "python",
   "name": "python3"
  },
  "language_info": {
   "codemirror_mode": {
    "name": "ipython",
    "version": 3
   },
   "file_extension": ".py",
   "mimetype": "text/x-python",
   "name": "python",
   "nbconvert_exporter": "python",
   "pygments_lexer": "ipython3",
   "version": "3.9.7"
  }
 },
 "nbformat": 4,
 "nbformat_minor": 4
}
